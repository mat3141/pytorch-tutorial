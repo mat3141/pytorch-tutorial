{
 "cells": [
  {
   "cell_type": "markdown",
   "id": "9a24bd91",
   "metadata": {},
   "source": [
    "# PyTorch Tutorial\n",
    "### Author: Mateo Perez\n",
    "\n",
    "This notebook is a brief tutorial for [PyTorch](https://pytorch.org/) with deep reinforcement learning in mind. It consists of four parts:\n",
    "\n",
    "[**1) Warmup: Taking Derivatives**](#1\\)-Warmup:-Taking-Derivatives)\n",
    "\n",
    "[**2) Ordinary Least Squares via Gradient Descent**](#2\\)-Ordinary-Least-Squares-via-Gradient-Descent)\n",
    "\n",
    "[**3) Training a Neural Network on MNIST**](#3\\)-Training-a-Neural-Network-on-MNIST)\n",
    "\n",
    "[**4) Deep Deterministic Policy Gradient (DDPG)**](#4\\)-Deep-Deterministic-Policy-Gradient-\\(DDPG\\))\n",
    "\n",
    "Let's begin by importing whats needed."
   ]
  },
  {
   "cell_type": "code",
   "execution_count": 2,
   "id": "7c76d8ab",
   "metadata": {},
   "outputs": [],
   "source": [
    "# PyTorch\n",
    "import torch\n",
    "import torch.nn as nn # Neural network specific functions\n",
    "\n",
    "# torchvision, a PyTorch library for computer vision\n",
    "from torchvision import datasets, transforms\n",
    "\n",
    "# gymnasium, a library containing reinforcement learning environments\n",
    "import gymnasium as gym\n",
    "\n",
    "# TensorBoard, for training visualization\n",
    "from torch.utils.tensorboard import SummaryWriter\n",
    "\n",
    "# Miscellaneous additional packages\n",
    "import matplotlib.pyplot as plt\n",
    "import matplotlib\n",
    "import scipy\n",
    "import numpy as np\n",
    "from tqdm import tqdm\n",
    "from copy import deepcopy"
   ]
  },
  {
   "cell_type": "markdown",
   "id": "fdaa0adc",
   "metadata": {},
   "source": [
    "## 1) Warmup: Taking Derivatives\n",
    "\n",
    "PyTorch is a scientific computing library focused on applications for deep neural networks. It operates much like [Numpy](https://numpy.org/), with three noteable additional features: 1) automatic differentiation, 2) GPU acceleration, and 3) neural network specific functions.\n",
    "\n",
    "In reverse mode automatic differentiation, the \"forward pass\" computes the values, and the \"backward pass\" computes the derivatives. As we perform our forward pass, PyTorch keeps track of all the operations that have occurred in the \"computation graph\".\n",
    "\n",
    "More details on can be found here [automatic differentiation](https://en.wikipedia.org/wiki/Automatic_differentiation), and here's a [small implementation](https://github.com/karpathy/micrograd) of reverse mode automatic differentiation."
   ]
  },
  {
   "cell_type": "markdown",
   "id": "ed6a9e2d",
   "metadata": {},
   "source": [
    "Similar to Numpy arrays, the primative object for storing a block of values is the ```tensor```."
   ]
  },
  {
   "cell_type": "code",
   "execution_count": 3,
   "id": "f9c65790",
   "metadata": {},
   "outputs": [
    {
     "data": {
      "text/plain": [
       "tensor(2)"
      ]
     },
     "execution_count": 3,
     "metadata": {},
     "output_type": "execute_result"
    }
   ],
   "source": [
    "x = torch.tensor(2)\n",
    "x"
   ]
  },
  {
   "cell_type": "markdown",
   "id": "5adee0de",
   "metadata": {},
   "source": [
    "We can do all the operations as we can for floats."
   ]
  },
  {
   "cell_type": "code",
   "execution_count": 4,
   "id": "ffe1ea2a",
   "metadata": {},
   "outputs": [
    {
     "data": {
      "text/plain": [
       "tensor(4)"
      ]
     },
     "execution_count": 4,
     "metadata": {},
     "output_type": "execute_result"
    }
   ],
   "source": [
    "x*x"
   ]
  },
  {
   "cell_type": "markdown",
   "id": "0c9bd654",
   "metadata": {},
   "source": [
    "We can define a tensor storing 4 values in 2 x 2 block."
   ]
  },
  {
   "cell_type": "code",
   "execution_count": 5,
   "id": "cb73048d",
   "metadata": {},
   "outputs": [
    {
     "data": {
      "text/plain": [
       "tensor([[1, 2],\n",
       "        [3, 4]])"
      ]
     },
     "execution_count": 5,
     "metadata": {},
     "output_type": "execute_result"
    }
   ],
   "source": [
    "x = torch.tensor([[1, 2], [3, 4]])\n",
    "x"
   ]
  },
  {
   "cell_type": "code",
   "execution_count": 6,
   "id": "9cba460d",
   "metadata": {},
   "outputs": [
    {
     "data": {
      "text/plain": [
       "torch.Size([2, 2])"
      ]
     },
     "execution_count": 6,
     "metadata": {},
     "output_type": "execute_result"
    }
   ],
   "source": [
    "x.size()"
   ]
  },
  {
   "cell_type": "markdown",
   "id": "ac167a51",
   "metadata": {},
   "source": [
    "Element-wise multiplication."
   ]
  },
  {
   "cell_type": "code",
   "execution_count": 7,
   "id": "92c11ad2",
   "metadata": {},
   "outputs": [
    {
     "data": {
      "text/plain": [
       "tensor([[ 1,  4],\n",
       "        [ 9, 16]])"
      ]
     },
     "execution_count": 7,
     "metadata": {},
     "output_type": "execute_result"
    }
   ],
   "source": [
    "x*x"
   ]
  },
  {
   "cell_type": "markdown",
   "id": "cd473f56",
   "metadata": {},
   "source": [
    "Matrix multiplication."
   ]
  },
  {
   "cell_type": "code",
   "execution_count": 8,
   "id": "fc9d126a",
   "metadata": {},
   "outputs": [
    {
     "data": {
      "text/plain": [
       "tensor([[ 7, 10],\n",
       "        [15, 22]])"
      ]
     },
     "execution_count": 8,
     "metadata": {},
     "output_type": "execute_result"
    }
   ],
   "source": [
    "x@x"
   ]
  },
  {
   "cell_type": "markdown",
   "id": "e6b5465e",
   "metadata": {},
   "source": [
    "To tell PyTorch that we need the derivative of a value, we set ```requires_grad=True```. These values that have no prior dependence in their definition (they are not the result of another operation) are known as the \"leaf\" nodes in the computation graph. (Note that later in this tutorial, we won't be setting ```requires_grad=True``` ourselves as we won't be defining the parameters of our neural network manually.)"
   ]
  },
  {
   "cell_type": "code",
   "execution_count": 9,
   "id": "16ee35bd",
   "metadata": {},
   "outputs": [
    {
     "data": {
      "text/plain": [
       "tensor(2., requires_grad=True)"
      ]
     },
     "execution_count": 9,
     "metadata": {},
     "output_type": "execute_result"
    }
   ],
   "source": [
    "x = torch.tensor(2., requires_grad=True)\n",
    "x"
   ]
  },
  {
   "cell_type": "code",
   "execution_count": 10,
   "id": "c80118ab",
   "metadata": {},
   "outputs": [
    {
     "data": {
      "text/plain": [
       "tensor(4., grad_fn=<MulBackward0>)"
      ]
     },
     "execution_count": 10,
     "metadata": {},
     "output_type": "execute_result"
    }
   ],
   "source": [
    "y = x*x\n",
    "y"
   ]
  },
  {
   "cell_type": "markdown",
   "id": "234ee44f",
   "metadata": {},
   "source": [
    "We call ```.backward()``` to compute all the partial derivatives of that value with respect to all leaf nodes."
   ]
  },
  {
   "cell_type": "code",
   "execution_count": 11,
   "id": "3096966c",
   "metadata": {},
   "outputs": [
    {
     "data": {
      "text/plain": [
       "tensor(4.)"
      ]
     },
     "execution_count": 11,
     "metadata": {},
     "output_type": "execute_result"
    }
   ],
   "source": [
    "y.backward()\n",
    "x.grad"
   ]
  },
  {
   "cell_type": "markdown",
   "id": "146ed932",
   "metadata": {},
   "source": [
    "By default, PyTorch throws away the computation graph after we call backward."
   ]
  },
  {
   "cell_type": "code",
   "execution_count": 12,
   "id": "a283d057",
   "metadata": {},
   "outputs": [
    {
     "name": "stdout",
     "output_type": "stream",
     "text": [
      "Error!\n",
      "Trying to backward through the graph a second time (or directly access saved tensors after they have already been freed). Saved intermediate values of the graph are freed when you call .backward() or autograd.grad(). Specify retain_graph=True if you need to backward through the graph a second time or if you need to access saved tensors after calling backward.\n"
     ]
    }
   ],
   "source": [
    "try:\n",
    "    y.backward()\n",
    "except Exception as e:\n",
    "    print(\"Error!\")\n",
    "    print(e)"
   ]
  },
  {
   "cell_type": "markdown",
   "id": "d03467c1",
   "metadata": {},
   "source": [
    "Using ```retain_graph=True``` we can call ```.backward()``` another time after this."
   ]
  },
  {
   "cell_type": "code",
   "execution_count": 13,
   "id": "f7b743b1",
   "metadata": {},
   "outputs": [
    {
     "data": {
      "text/plain": [
       "tensor(8.)"
      ]
     },
     "execution_count": 13,
     "metadata": {},
     "output_type": "execute_result"
    }
   ],
   "source": [
    "y = x*x\n",
    "y.backward(retain_graph=True)\n",
    "x.grad"
   ]
  },
  {
   "cell_type": "markdown",
   "id": "636beea4",
   "metadata": {},
   "source": [
    "Why is ```x.grad``` equal to $8$ instead of $4$? By default, the behavior of PyTorch is to accumulate gradients. This is a natural choice because the derivative of the sum is to sum of the derivatives, i.e. \n",
    "```\n",
    "(loss1 + loss2).backward()\n",
    "```\n",
    "results in the same value as\n",
    "```\n",
    "loss1.backward()\n",
    "loss2.backward()\n",
    "```\n",
    "\n",
    "Thus, we set the accumulated gradient to zero when we need to."
   ]
  },
  {
   "cell_type": "code",
   "execution_count": 14,
   "id": "74a577d4",
   "metadata": {},
   "outputs": [
    {
     "data": {
      "text/plain": [
       "tensor(4.)"
      ]
     },
     "execution_count": 14,
     "metadata": {},
     "output_type": "execute_result"
    }
   ],
   "source": [
    "x.grad = None\n",
    "y.backward()\n",
    "x.grad"
   ]
  },
  {
   "cell_type": "markdown",
   "id": "ea1bd7d4",
   "metadata": {},
   "source": [
    "Often in reinforcement learning, we need to tell PyTorch to treat a value as a constant and to not differentiate through it. This is sometimes referred to as the \"stop gradient\" operator in the literature. There are two ways to do this, wrap it is ```with torch.no_grad():``` or to call ```.detach()``` on the value to detach it from the computation graph. The benefit of ```with torch.no_grad():``` is that PyTorch knows not to spend time building the computation graph for these operations and will run slightly faster."
   ]
  },
  {
   "cell_type": "code",
   "execution_count": 15,
   "id": "cbefede5",
   "metadata": {},
   "outputs": [
    {
     "name": "stdout",
     "output_type": "stream",
     "text": [
      "y tensor(8., grad_fn=<MulBackward0>)\n",
      "x.grad tensor(4.)\n"
     ]
    }
   ],
   "source": [
    "x.grad = None\n",
    "y = x*x\n",
    "with torch.no_grad():\n",
    "    y += x*x\n",
    "\n",
    "print('y', y)\n",
    "y.backward()\n",
    "print('x.grad', x.grad)"
   ]
  },
  {
   "cell_type": "code",
   "execution_count": 16,
   "id": "65440201",
   "metadata": {},
   "outputs": [
    {
     "name": "stdout",
     "output_type": "stream",
     "text": [
      "y tensor(8., grad_fn=<AddBackward0>)\n",
      "x.grad tensor(4.)\n"
     ]
    }
   ],
   "source": [
    "x.grad = None\n",
    "y = x*x\n",
    "y += (x*x).detach()\n",
    "\n",
    "print('y', y)\n",
    "y.backward()\n",
    "print('x.grad', x.grad)"
   ]
  },
  {
   "cell_type": "markdown",
   "id": "758dee1a",
   "metadata": {},
   "source": [
    "You can move tensor to the GPU by calling ```.to('cuda')``` (in reference to Nvidia's [CUDA](https://en.wikipedia.org/wiki/CUDA) language). The computation will then take place on the device the tensor is on. We won't be focusing on this in this tutorial."
   ]
  },
  {
   "cell_type": "code",
   "execution_count": 17,
   "id": "3962abc8",
   "metadata": {},
   "outputs": [
    {
     "name": "stdout",
     "output_type": "stream",
     "text": [
      "tensor([[ 7., 10.],\n",
      "        [15., 22.]], device='cuda:0')\n"
     ]
    }
   ],
   "source": [
    "if torch.cuda.is_available():\n",
    "    x = torch.tensor([[1., 2.], [3., 4.]]).to('cuda')\n",
    "    print(x @ x)"
   ]
  },
  {
   "cell_type": "markdown",
   "id": "3d652f77",
   "metadata": {},
   "source": [
    "A tensor of ones."
   ]
  },
  {
   "cell_type": "code",
   "execution_count": 18,
   "id": "84cc5dd4",
   "metadata": {},
   "outputs": [
    {
     "data": {
      "text/plain": [
       "tensor([[1., 1.],\n",
       "        [1., 1.],\n",
       "        [1., 1.]])"
      ]
     },
     "execution_count": 18,
     "metadata": {},
     "output_type": "execute_result"
    }
   ],
   "source": [
    "torch.ones(3,2)"
   ]
  },
  {
   "cell_type": "markdown",
   "id": "ef39b323",
   "metadata": {},
   "source": [
    "A tensor of zeros."
   ]
  },
  {
   "cell_type": "code",
   "execution_count": 19,
   "id": "bcafa88f",
   "metadata": {},
   "outputs": [
    {
     "data": {
      "text/plain": [
       "tensor([[[0., 0.],\n",
       "         [0., 0.],\n",
       "         [0., 0.],\n",
       "         [0., 0.]],\n",
       "\n",
       "        [[0., 0.],\n",
       "         [0., 0.],\n",
       "         [0., 0.],\n",
       "         [0., 0.]]])"
      ]
     },
     "execution_count": 19,
     "metadata": {},
     "output_type": "execute_result"
    }
   ],
   "source": [
    "torch.zeros(2,4,2)"
   ]
  },
  {
   "cell_type": "markdown",
   "id": "a4152052",
   "metadata": {},
   "source": [
    "A tensor of values sampled from a standard normal distribution"
   ]
  },
  {
   "cell_type": "code",
   "execution_count": 20,
   "id": "56460ad2",
   "metadata": {},
   "outputs": [
    {
     "data": {
      "text/plain": [
       "tensor([[ 1.2779, -1.5558]])"
      ]
     },
     "execution_count": 20,
     "metadata": {},
     "output_type": "execute_result"
    }
   ],
   "source": [
    "torch.randn(1,2)"
   ]
  },
  {
   "cell_type": "markdown",
   "id": "e0bf0ece",
   "metadata": {},
   "source": [
    "Broadcasting refers to the automatic resizing of two tensors to be the same size. This is done by matching dimensions from right to left. See [this](https://pytorch.org/docs/stable/notes/broadcasting.html) for details."
   ]
  },
  {
   "cell_type": "code",
   "execution_count": 21,
   "id": "5fc8460a",
   "metadata": {},
   "outputs": [
    {
     "data": {
      "text/plain": [
       "torch.Size([5, 3, 4, 1])"
      ]
     },
     "execution_count": 21,
     "metadata": {},
     "output_type": "execute_result"
    }
   ],
   "source": [
    "(torch.ones(5,3,4,1) + torch.ones(3,1,1)).size()"
   ]
  },
  {
   "cell_type": "code",
   "execution_count": 22,
   "id": "ed750c2e",
   "metadata": {},
   "outputs": [
    {
     "data": {
      "text/plain": [
       "tensor([[2., 2., 2., 2.],\n",
       "        [2., 2., 2., 2.],\n",
       "        [2., 2., 2., 2.],\n",
       "        [2., 2., 2., 2.]])"
      ]
     },
     "execution_count": 22,
     "metadata": {},
     "output_type": "execute_result"
    }
   ],
   "source": [
    "torch.ones(4,1) + torch.ones(4)"
   ]
  },
  {
   "cell_type": "markdown",
   "id": "42a13630",
   "metadata": {},
   "source": [
    "The above might not have been the behavior you wanted, and will result in bugs if you don't realize this is happening. You can you use ```.view``` to reshape tensors. The ```-1``` means PyTorch should infer the size of that dimension."
   ]
  },
  {
   "cell_type": "code",
   "execution_count": 23,
   "id": "3cc7c165",
   "metadata": {},
   "outputs": [
    {
     "data": {
      "text/plain": [
       "torch.Size([4, 1])"
      ]
     },
     "execution_count": 23,
     "metadata": {},
     "output_type": "execute_result"
    }
   ],
   "source": [
    "torch.ones(4).view(-1,1).size()"
   ]
  },
  {
   "cell_type": "code",
   "execution_count": 24,
   "id": "84690735",
   "metadata": {},
   "outputs": [
    {
     "data": {
      "text/plain": [
       "tensor([[2.],\n",
       "        [2.],\n",
       "        [2.],\n",
       "        [2.]])"
      ]
     },
     "execution_count": 24,
     "metadata": {},
     "output_type": "execute_result"
    }
   ],
   "source": [
    "torch.ones(4,1) + torch.ones(4).view(-1,1)"
   ]
  },
  {
   "cell_type": "markdown",
   "id": "acd595b8",
   "metadata": {},
   "source": [
    "We can also use ```.squeeze()``` to remove all the dimensions that have a size of $1$."
   ]
  },
  {
   "cell_type": "code",
   "execution_count": 25,
   "id": "9de2de4e",
   "metadata": {},
   "outputs": [
    {
     "data": {
      "text/plain": [
       "torch.Size([4])"
      ]
     },
     "execution_count": 25,
     "metadata": {},
     "output_type": "execute_result"
    }
   ],
   "source": [
    "torch.ones(4,1).squeeze().size()"
   ]
  },
  {
   "cell_type": "code",
   "execution_count": 26,
   "id": "ffb35069",
   "metadata": {},
   "outputs": [
    {
     "data": {
      "text/plain": [
       "tensor([2., 2., 2., 2.])"
      ]
     },
     "execution_count": 26,
     "metadata": {},
     "output_type": "execute_result"
    }
   ],
   "source": [
    "torch.ones(4,1).squeeze() + torch.ones(4)"
   ]
  },
  {
   "cell_type": "markdown",
   "id": "5b7491b2",
   "metadata": {},
   "source": [
    "## 2) Ordinary Least Squares via Gradient Descent\n",
    "\n",
    "In [ordinary least squares](https://en.wikipedia.org/wiki/Ordinary_least_squares), the objective is find a linear function that minimizes the mean squared error to a set of points $(x_i, y_i)$, i.e.\n",
    "$$\n",
    "argmin_{w} \\sum_{i=1}^n(y_i - x_i^T w)^2\n",
    "$$\n",
    "\n",
    "This problem reduces to solving a set of linear equations (see the Wikipedia page above).\n",
    "\n",
    "For illustration purposes, we will instead solve this with [gradient descent](https://en.wikipedia.org/wiki/Gradient_descent) using PyTorch."
   ]
  },
  {
   "cell_type": "markdown",
   "id": "2570e470",
   "metadata": {},
   "source": [
    "Minimizing the mean squared error on this problem is motivated by the $(x_i,y_i)$ being generated by some \"true\" underlying linear function with gaussian noise added to each $y_i$. Let's set this up."
   ]
  },
  {
   "cell_type": "code",
   "execution_count": 27,
   "id": "e7e88936",
   "metadata": {},
   "outputs": [],
   "source": [
    "A_true = torch.randn(1)\n",
    "b_true = torch.randn(1)\n",
    "x = torch.rand(20)*6 - 3 # [-3, 3]"
   ]
  },
  {
   "cell_type": "code",
   "execution_count": 28,
   "id": "bc29240c",
   "metadata": {},
   "outputs": [
    {
     "data": {
      "image/png": "[encoded data removed]",
      "text/plain": [
       "<Figure size 640x480 with 1 Axes>"
      ]
     },
     "metadata": {},
     "output_type": "display_data"
    }
   ],
   "source": [
    "y_true = A_true*x + b_true\n",
    "y = A_true*x + b_true + torch.randn(20)*0.5\n",
    "\n",
    "plt.plot(x, y_true)\n",
    "plt.plot(x, y, '.')\n",
    "plt.grid('on')\n",
    "plt.legend(('True', 'Data'))\n",
    "plt.show()"
   ]
  },
  {
   "cell_type": "markdown",
   "id": "c22fbd47",
   "metadata": {},
   "source": [
    "We're now ready to train. We will use ```.data``` to directly modify the value of tensors without it being kept track of in the computation graph."
   ]
  },
  {
   "cell_type": "code",
   "execution_count": 29,
   "id": "1166c7e1",
   "metadata": {},
   "outputs": [],
   "source": [
    "A = torch.randn(1, requires_grad=True)\n",
    "b = torch.randn(1, requires_grad=True)\n",
    "\n",
    "lr = 0.005\n",
    "N = 500\n",
    "\n",
    "for t in range(N):\n",
    "    y_estimate = A*x + b\n",
    "    \n",
    "    loss = (y_estimate - y).square().mean()\n",
    "    \n",
    "    # Zero the accumulated gradients\n",
    "    A.grad = None\n",
    "    b.grad = None\n",
    "    \n",
    "    # Compute the gradient\n",
    "    loss.backward()\n",
    "    \n",
    "    # Gradient descent step\n",
    "    A.data = (A - lr*A.grad).data\n",
    "    b.data = (b - lr*b.grad).data"
   ]
  },
  {
   "cell_type": "code",
   "execution_count": 30,
   "id": "de2799ba",
   "metadata": {},
   "outputs": [
    {
     "name": "stdout",
     "output_type": "stream",
     "text": [
      "tensor([0.1376]) tensor([0.2506], requires_grad=True)\n",
      "tensor([-0.7129]) tensor([-0.7368], requires_grad=True)\n"
     ]
    }
   ],
   "source": [
    "print(A_true, A)\n",
    "print(b_true, b)"
   ]
  },
  {
   "cell_type": "markdown",
   "id": "501bfab9",
   "metadata": {},
   "source": [
    "Instead of manually writing the gradient descent update, we can use ```torch.optim.SGD``` to do this for us. It takes the list of parameters to optimize. The optimizer also has ```.zero_grad()``` to zero out the accumulated gradients. We will add a log of the different values at each step of training for visualization later."
   ]
  },
  {
   "cell_type": "code",
   "execution_count": 31,
   "id": "dc180275",
   "metadata": {},
   "outputs": [],
   "source": [
    "A = torch.randn(1, requires_grad=True)\n",
    "b = torch.randn(1, requires_grad=True)\n",
    "\n",
    "lr = 0.005\n",
    "N = 500\n",
    "\n",
    "optimizer = torch.optim.SGD([A, b], lr=lr)\n",
    "\n",
    "## Log\n",
    "logs_A = []\n",
    "logs_b = []\n",
    "##\n",
    "\n",
    "for t in range(N):\n",
    "    y_estimate = A*x + b\n",
    "    \n",
    "    loss = (y_estimate - y).square().mean()\n",
    "    \n",
    "    # Zero the accumulated gradients\n",
    "    optimizer.zero_grad()\n",
    "    \n",
    "    # Compute the gradient\n",
    "    loss.backward()\n",
    "    \n",
    "    # Gradient descent step\n",
    "    optimizer.step()\n",
    "    \n",
    "    ## Log\n",
    "    if t%1 == 0:\n",
    "        logs_A.append(A.detach().numpy()[0])\n",
    "        logs_b.append(b.detach().numpy()[0])\n",
    "    ##"
   ]
  },
  {
   "cell_type": "code",
   "execution_count": 32,
   "id": "fa91f2b2",
   "metadata": {},
   "outputs": [
    {
     "name": "stdout",
     "output_type": "stream",
     "text": [
      "tensor([0.1376]) tensor([0.2515], requires_grad=True)\n",
      "tensor([-0.7129]) tensor([-0.7417], requires_grad=True)\n"
     ]
    }
   ],
   "source": [
    "print(A_true, A)\n",
    "print(b_true, b)"
   ]
  },
  {
   "cell_type": "markdown",
   "id": "96023347",
   "metadata": {},
   "source": [
    "Let's get the analytic solution I mentioned above, and plot what we learned."
   ]
  },
  {
   "cell_type": "code",
   "execution_count": 33,
   "id": "59474ad9",
   "metadata": {},
   "outputs": [],
   "source": [
    "x_1 = np.array([x.numpy(), np.ones(20)]).T\n",
    "A_b_scipy = scipy.linalg.lstsq(x_1, y.numpy())[0]\n",
    "A_scipy = A_b_scipy[0]\n",
    "b_scipy = A_b_scipy[1]"
   ]
  },
  {
   "cell_type": "code",
   "execution_count": 34,
   "id": "5d627edf",
   "metadata": {},
   "outputs": [
    {
     "data": {
      "text/plain": [
       "<matplotlib.legend.Legend at 0x7f5990ff2410>"
      ]
     },
     "execution_count": 34,
     "metadata": {},
     "output_type": "execute_result"
    },
    {
     "data": {
      "image/png": "[encoded data removed]",
      "text/plain": [
       "<Figure size 640x480 with 1 Axes>"
      ]
     },
     "metadata": {},
     "output_type": "display_data"
    }
   ],
   "source": [
    "y_estimate = A*x + b\n",
    "y_scipy = A_scipy*x + b_scipy\n",
    "\n",
    "plt.plot(x, y_true)\n",
    "plt.plot(x, y, '.')\n",
    "plt.plot(x, y_scipy,'k',linewidth=4)\n",
    "plt.plot(x, y_estimate.detach(), 'r-')\n",
    "plt.grid('on')\n",
    "plt.legend(('True', 'Data', 'Scipy', 'Fit'))"
   ]
  },
  {
   "cell_type": "markdown",
   "id": "9c37aa83",
   "metadata": {},
   "source": [
    "We get very close to the exact least squares solution (labeled \"Scipy\"). Before ending this section, let's visualize what each of the iterations look like during training."
   ]
  },
  {
   "cell_type": "code",
   "execution_count": 35,
   "id": "00c0685a",
   "metadata": {},
   "outputs": [
    {
     "data": {
      "image/png": "[encoded data removed]",
      "text/plain": [
       "<Figure size 640x480 with 2 Axes>"
      ]
     },
     "metadata": {},
     "output_type": "display_data"
    }
   ],
   "source": [
    "fig, ax = plt.subplots()\n",
    "for t in range(len(logs_A)):\n",
    "    ax.plot(x, logs_A[t]*x.numpy() + logs_b[t],c=plt.cm.gist_rainbow(t/len(logs_A)), linewidth=0.5)\n",
    "cbar = plt.colorbar(matplotlib.cm.ScalarMappable(norm=None, cmap=plt.cm.gist_rainbow), ax=ax)\n",
    "cbar.set_label(\"Fraction of training\")\n",
    "plt.grid('on')\n",
    "plt.show()"
   ]
  },
  {
   "cell_type": "markdown",
   "id": "7fe359ff",
   "metadata": {},
   "source": [
    "## 3) Training a Neural Network on MNIST\n",
    "\n",
    "In this part, we will train a neural network on the character recognition dataset [MNIST](https://en.wikipedia.org/wiki/MNIST_database). MNIST consists of images that are 28 x 28 pixels of the digits 0 through 9. Our goal is to classify what digit is in the image."
   ]
  },
  {
   "cell_type": "markdown",
   "id": "8c73542d",
   "metadata": {},
   "source": [
    "We begin by using ```torchvision``` to get the dataset. This will download the dataset and save it to the folder \"./data\". We will define a transformation that first transforms the input into a tensor, and then flattens it to a single vector of length $28^2$."
   ]
  },
  {
   "cell_type": "code",
   "execution_count": 36,
   "id": "38c19a50",
   "metadata": {},
   "outputs": [
    {
     "name": "stdout",
     "output_type": "stream",
     "text": [
      "Downloading http://yann.lecun.com/exdb/mnist/train-images-idx3-ubyte.gz\n",
      "Downloading http://yann.lecun.com/exdb/mnist/train-images-idx3-ubyte.gz to ./data/MNIST/raw/train-images-idx3-ubyte.gz\n"
     ]
    },
    {
     "name": "stderr",
     "output_type": "stream",
     "text": [
      "100%|███████████████████████████| 9912422/9912422 [00:00<00:00, 12398853.40it/s]\n"
     ]
    },
    {
     "name": "stdout",
     "output_type": "stream",
     "text": [
      "Extracting ./data/MNIST/raw/train-images-idx3-ubyte.gz to ./data/MNIST/raw\n",
      "\n",
      "Downloading http://yann.lecun.com/exdb/mnist/train-labels-idx1-ubyte.gz\n",
      "Downloading http://yann.lecun.com/exdb/mnist/train-labels-idx1-ubyte.gz to ./data/MNIST/raw/train-labels-idx1-ubyte.gz\n"
     ]
    },
    {
     "name": "stderr",
     "output_type": "stream",
     "text": [
      "100%|███████████████████████████████| 28881/28881 [00:00<00:00, 23761415.03it/s]\n"
     ]
    },
    {
     "name": "stdout",
     "output_type": "stream",
     "text": [
      "Extracting ./data/MNIST/raw/train-labels-idx1-ubyte.gz to ./data/MNIST/raw\n",
      "\n",
      "Downloading http://yann.lecun.com/exdb/mnist/t10k-images-idx3-ubyte.gz\n",
      "Downloading http://yann.lecun.com/exdb/mnist/t10k-images-idx3-ubyte.gz to ./data/MNIST/raw/t10k-images-idx3-ubyte.gz\n"
     ]
    },
    {
     "name": "stderr",
     "output_type": "stream",
     "text": [
      "100%|████████████████████████████| 1648877/1648877 [00:00<00:00, 9943726.19it/s]\n"
     ]
    },
    {
     "name": "stdout",
     "output_type": "stream",
     "text": [
      "Extracting ./data/MNIST/raw/t10k-images-idx3-ubyte.gz to ./data/MNIST/raw\n",
      "\n",
      "Downloading http://yann.lecun.com/exdb/mnist/t10k-labels-idx1-ubyte.gz\n",
      "Downloading http://yann.lecun.com/exdb/mnist/t10k-labels-idx1-ubyte.gz to ./data/MNIST/raw/t10k-labels-idx1-ubyte.gz\n"
     ]
    },
    {
     "name": "stderr",
     "output_type": "stream",
     "text": [
      "100%|██████████████████████████████████| 4542/4542 [00:00<00:00, 3124061.79it/s]\n"
     ]
    },
    {
     "name": "stdout",
     "output_type": "stream",
     "text": [
      "Extracting ./data/MNIST/raw/t10k-labels-idx1-ubyte.gz to ./data/MNIST/raw\n",
      "\n"
     ]
    }
   ],
   "source": [
    "transform = transforms.Compose([transforms.ToTensor(), transforms.Lambda(torch.flatten)])\n",
    "\n",
    "mnist_train = datasets.MNIST('./data', train=True, download=True, transform=transform)\n",
    "mnist_test = datasets.MNIST('./data', train=False, download=True, transform=transform)"
   ]
  },
  {
   "cell_type": "markdown",
   "id": "7cac8b60",
   "metadata": {},
   "source": [
    "Let's look at a random element of the training dataset."
   ]
  },
  {
   "cell_type": "code",
   "execution_count": 37,
   "id": "fe8b9b4f",
   "metadata": {},
   "outputs": [
    {
     "name": "stdout",
     "output_type": "stream",
     "text": [
      "The label is 3.\n"
     ]
    },
    {
     "data": {
      "image/png": "[encoded data removed]",
      "text/plain": [
       "<Figure size 640x480 with 1 Axes>"
      ]
     },
     "metadata": {},
     "output_type": "display_data"
    }
   ],
   "source": [
    "ind = torch.randint(len(mnist_train), (1,))[0]\n",
    "x, y = mnist_train[ind]\n",
    "print(\"The label is \" + str(y) + \".\")\n",
    "plt.imshow(x.reshape(28,28).numpy(), cmap='binary')\n",
    "plt.show()"
   ]
  },
  {
   "cell_type": "markdown",
   "id": "2e673f9a",
   "metadata": {},
   "source": [
    "We are ready to define our neural network. Our neural network will be a multilayer perceptron. A multilayer perceptron has layers consisting of an affine transformation ($y = Ax + b$) followed by a nonlinear activation function.\n",
    "\n",
    "Let's use ```torch.nn``` to have nicely prepackaged functions. The first one will be our affine transformation. We will create ```nn.Linear(n, m)``` where $n$ is the input size and $m$ is the output size."
   ]
  },
  {
   "cell_type": "code",
   "execution_count": 38,
   "id": "8c6af874",
   "metadata": {},
   "outputs": [
    {
     "name": "stdout",
     "output_type": "stream",
     "text": [
      "Parameter containing:\n",
      "tensor([[ 0.1586,  0.5196],\n",
      "        [ 0.0450,  0.4533],\n",
      "        [-0.3766, -0.3964]], requires_grad=True)\n",
      "Parameter containing:\n",
      "tensor([-0.6922,  0.5905,  0.0286], requires_grad=True)\n"
     ]
    }
   ],
   "source": [
    "linear_layer = nn.Linear(2,3)\n",
    "print(linear_layer.weight)\n",
    "print(linear_layer.bias)"
   ]
  },
  {
   "cell_type": "markdown",
   "id": "c9b541d3",
   "metadata": {},
   "source": [
    "The weights are $A$ and the bias is $b$ in $y = Ax + b$. We can call this with values of different sizes. Note that our input of size $2$ becomes an output of size $3$ in this example. Only the last dimension has the affine transformation applied. Everything else is iterated over."
   ]
  },
  {
   "cell_type": "code",
   "execution_count": 39,
   "id": "0d60a76f",
   "metadata": {},
   "outputs": [
    {
     "data": {
      "text/plain": [
       "tensor([-0.5656,  0.5122, -0.5841], grad_fn=<ViewBackward0>)"
      ]
     },
     "execution_count": 39,
     "metadata": {},
     "output_type": "execute_result"
    }
   ],
   "source": [
    "x = torch.randn(2)\n",
    "linear_layer(x)"
   ]
  },
  {
   "cell_type": "markdown",
   "id": "a5c6abcb",
   "metadata": {},
   "source": [
    "Note that this"
   ]
  },
  {
   "cell_type": "code",
   "execution_count": 40,
   "id": "513d211e",
   "metadata": {},
   "outputs": [
    {
     "data": {
      "text/plain": [
       "tensor([[-0.3345,  0.9254, -0.1817],\n",
       "        [-0.4801,  0.5933, -0.6317],\n",
       "        [-0.1935,  1.0808, -0.2006],\n",
       "        [-0.0636,  1.2263, -0.2117],\n",
       "        [-0.2599,  1.0936,  0.0435]], grad_fn=<AddmmBackward0>)"
      ]
     },
     "execution_count": 40,
     "metadata": {},
     "output_type": "execute_result"
    }
   ],
   "source": [
    "x = torch.randn(5,2)\n",
    "linear_layer(x)"
   ]
  },
  {
   "cell_type": "markdown",
   "id": "4a593fab",
   "metadata": {},
   "source": [
    "is semantically the same as"
   ]
  },
  {
   "cell_type": "code",
   "execution_count": 41,
   "id": "769e5e63",
   "metadata": {},
   "outputs": [
    {
     "name": "stdout",
     "output_type": "stream",
     "text": [
      "tensor([-0.3345,  0.9254, -0.1817], grad_fn=<ViewBackward0>)\n",
      "tensor([-0.4801,  0.5933, -0.6317], grad_fn=<ViewBackward0>)\n",
      "tensor([-0.1935,  1.0808, -0.2006], grad_fn=<ViewBackward0>)\n",
      "tensor([-0.0636,  1.2263, -0.2117], grad_fn=<ViewBackward0>)\n",
      "tensor([-0.2599,  1.0936,  0.0435], grad_fn=<ViewBackward0>)\n"
     ]
    }
   ],
   "source": [
    "for t in range(5):\n",
    "    print(linear_layer(x[t]))"
   ]
  },
  {
   "cell_type": "markdown",
   "id": "8bd22af5",
   "metadata": {},
   "source": [
    "but the first one is preferred, as PyTorch will automically parallelize it.\n",
    "\n",
    "Of course, we get an error if we call ```linear_layer``` with the wrong size."
   ]
  },
  {
   "cell_type": "code",
   "execution_count": 42,
   "id": "e2cc5c62",
   "metadata": {},
   "outputs": [
    {
     "name": "stdout",
     "output_type": "stream",
     "text": [
      "Error!\n",
      "mat1 and mat2 shapes cannot be multiplied (1x3 and 2x3)\n"
     ]
    }
   ],
   "source": [
    "try:\n",
    "    x = torch.randn(3)\n",
    "    linear_layer(x)\n",
    "except Exception as e:\n",
    "    print(\"Error!\")\n",
    "    print(e)"
   ]
  },
  {
   "cell_type": "markdown",
   "id": "8c0786bb",
   "metadata": {},
   "source": [
    "We can check that this is in fact just $Ax + b$ (with a transpose)."
   ]
  },
  {
   "cell_type": "code",
   "execution_count": 43,
   "id": "b9c5c142",
   "metadata": {},
   "outputs": [
    {
     "name": "stdout",
     "output_type": "stream",
     "text": [
      "tensor([-1.0951,  0.2965,  0.4932])\n",
      "tensor([-1.0951,  0.2965,  0.4932], grad_fn=<ViewBackward0>)\n"
     ]
    }
   ],
   "source": [
    "x = torch.randn(2)\n",
    "A = linear_layer.weight.data.detach().clone()\n",
    "b = linear_layer.bias.data.detach().clone()\n",
    "\n",
    "print(x @ A.T + b)\n",
    "print(linear_layer(x))"
   ]
  },
  {
   "cell_type": "markdown",
   "id": "504224dd",
   "metadata": {},
   "source": [
    "For our activation function, we will use [ReLU](https://en.wikipedia.org/wiki/Rectifier_(neural_networks)), $f(x) = \\max(0, x)$, by calling ```torch.relu(x)```. Let's plot what it looks like."
   ]
  },
  {
   "cell_type": "code",
   "execution_count": 44,
   "id": "015c6a7f",
   "metadata": {},
   "outputs": [
    {
     "data": {
      "image/png": "[encoded data removed]",
      "text/plain": [
       "<Figure size 640x480 with 1 Axes>"
      ]
     },
     "metadata": {},
     "output_type": "display_data"
    }
   ],
   "source": [
    "x = torch.linspace(-3, 3, 41)\n",
    "plt.title('ReLU')\n",
    "plt.plot(x, torch.relu(x))\n",
    "plt.show()"
   ]
  },
  {
   "cell_type": "markdown",
   "id": "96ab87d3",
   "metadata": {},
   "source": [
    "Now we are ready to define our neural network. We will define it as a class that extends ```nn.Module```. When the object is called, ```forward``` will automatically be called. Note that we need to call the initialization of the superclass at the beginning of our initialization."
   ]
  },
  {
   "cell_type": "code",
   "execution_count": 45,
   "id": "15c7b40a",
   "metadata": {},
   "outputs": [],
   "source": [
    "class FFN(nn.Module):\n",
    "    def __init__(self, input_dim, output_dim, hidden_dim=200):\n",
    "        super().__init__()\n",
    "        self.lin0 = nn.Linear(input_dim, hidden_dim)\n",
    "        self.lin1 = nn.Linear(hidden_dim, hidden_dim)\n",
    "        self.lin2 = nn.Linear(hidden_dim, output_dim)\n",
    "    \n",
    "    def forward(self, x):\n",
    "        x = torch.relu(self.lin0(x))\n",
    "        x = torch.relu(self.lin1(x))\n",
    "        x = self.lin2(x)\n",
    "        return x"
   ]
  },
  {
   "cell_type": "code",
   "execution_count": 46,
   "id": "2967ed2c",
   "metadata": {},
   "outputs": [
    {
     "data": {
      "text/plain": [
       "tensor([-0.0438,  0.0846, -0.0045,  0.0959, -0.1326, -0.0733, -0.0720,  0.0080,\n",
       "        -0.1208,  0.0065], grad_fn=<ViewBackward0>)"
      ]
     },
     "execution_count": 46,
     "metadata": {},
     "output_type": "execute_result"
    }
   ],
   "source": [
    "ffn = FFN(28*28, 10)\n",
    "ffn(torch.randn(28*28))"
   ]
  },
  {
   "cell_type": "markdown",
   "id": "260680f0",
   "metadata": {},
   "source": [
    "Now we can use a ```DataLoader``` to automatically sample a minibatch of size $16$ for training."
   ]
  },
  {
   "cell_type": "code",
   "execution_count": 47,
   "id": "f8c06600",
   "metadata": {},
   "outputs": [],
   "source": [
    "batch_size = 16\n",
    "\n",
    "train_loader = torch.utils.data.DataLoader(mnist_train, batch_size=batch_size)\n",
    "test_loader = torch.utils.data.DataLoader(mnist_test, batch_size=1)"
   ]
  },
  {
   "cell_type": "markdown",
   "id": "2242fa16",
   "metadata": {},
   "source": [
    "Here's our training loop. We will use the [cross entropy loss](https://en.wikipedia.org/wiki/Cross-entropy#Cross-entropy_loss_function_and_logistic_regression) which will just correspond to the negative log probability our model assigns to the correct class. We use a softmax to get the probabilities from the logits our model outputs. The value computed in the commented out code will match that computed by ```nn.CrossEntropyLoss```.\n",
    "\n",
    "```torch.optim``` has many other variants of stochastic gradient descent we will use later. In particular, [Adam](https://arxiv.org/pdf/1412.6980.pdf), which takes an exponential average of the gradients and divides it by the exponential average of the uncentered variance to get the update direction. We will use that here."
   ]
  },
  {
   "cell_type": "code",
   "execution_count": 48,
   "id": "c236a283",
   "metadata": {},
   "outputs": [
    {
     "name": "stderr",
     "output_type": "stream",
     "text": [
      "100%|██████████████████████████████████████| 3750/3750 [00:11<00:00, 328.89it/s]\n"
     ]
    }
   ],
   "source": [
    "num_epochs = 1\n",
    "\n",
    "ffn = FFN(28*28, 10)\n",
    "optimizer = torch.optim.Adam(ffn.parameters(), lr=3e-4)\n",
    "\n",
    "CEL = nn.CrossEntropyLoss()\n",
    "\n",
    "for epoch in range(num_epochs):\n",
    "    for x, y_true in tqdm(train_loader):\n",
    "        y_logits = ffn(x)\n",
    "        \n",
    "        # y_probs_all = torch.softmax(y_logits, dim=-1)\n",
    "        # y_prob = y_probs_all[torch.arange(len(y_probs_all)), y_true]\n",
    "        # loss = -torch.log(y_prob).mean()\n",
    "        \n",
    "        loss = CEL(y_logits, y_true)\n",
    "        \n",
    "        optimizer.zero_grad()\n",
    "        loss.backward()\n",
    "        optimizer.step()"
   ]
  },
  {
   "cell_type": "markdown",
   "id": "8b0d453e",
   "metadata": {},
   "source": [
    "Let's compute the accuracy on the test set."
   ]
  },
  {
   "cell_type": "code",
   "execution_count": 49,
   "id": "9d2f9620",
   "metadata": {},
   "outputs": [
    {
     "name": "stderr",
     "output_type": "stream",
     "text": [
      "100%|███████████████████████████████████| 10000/10000 [00:03<00:00, 3040.16it/s]"
     ]
    },
    {
     "name": "stdout",
     "output_type": "stream",
     "text": [
      "Test accuracy: 0.9459999799728394\n"
     ]
    },
    {
     "name": "stderr",
     "output_type": "stream",
     "text": [
      "\n"
     ]
    }
   ],
   "source": [
    "num_correct = 0\n",
    "\n",
    "for x, y_true in tqdm(test_loader):\n",
    "    num_correct += (y_true == ffn(x).max(dim=-1)[1])\n",
    "    \n",
    "print('Test accuracy:', float(num_correct / len(test_loader)))"
   ]
  },
  {
   "cell_type": "markdown",
   "id": "d751cb38",
   "metadata": {},
   "source": [
    "After training for just a few seconds, we have nearly 95% accuracy on the test set!\n",
    "\n",
    "Let's look at some random element of the test set what the network classifies it as."
   ]
  },
  {
   "cell_type": "code",
   "execution_count": 50,
   "id": "1e8cecb2",
   "metadata": {},
   "outputs": [
    {
     "name": "stdout",
     "output_type": "stream",
     "text": [
      "The label is 7.\n",
      "The network predicted 7.\n"
     ]
    },
    {
     "data": {
      "image/png": "[encoded data removed]",
      "text/plain": [
       "<Figure size 640x480 with 1 Axes>"
      ]
     },
     "metadata": {},
     "output_type": "display_data"
    }
   ],
   "source": [
    "ind = torch.randint(len(mnist_test), (1,))[0]\n",
    "x, y = mnist_test[ind]\n",
    "print(\"The label is \" + str(y) + \".\")\n",
    "print(\"The network predicted \" + str(int(ffn(x).max(dim=-1)[1])) + \".\")\n",
    "plt.imshow(x.reshape(28,28).numpy(), cmap='binary')\n",
    "plt.show()"
   ]
  },
  {
   "cell_type": "markdown",
   "id": "6a5100dc",
   "metadata": {},
   "source": [
    "Let's randomly sample elements from the test set until we find one that the network misclassifies and look at it."
   ]
  },
  {
   "cell_type": "code",
   "execution_count": 51,
   "id": "23ed241b",
   "metadata": {},
   "outputs": [
    {
     "name": "stdout",
     "output_type": "stream",
     "text": [
      "The label is 2.\n",
      "The network predicted 4.\n"
     ]
    },
    {
     "data": {
      "image/png": "[encoded data removed]",
      "text/plain": [
       "<Figure size 640x480 with 1 Axes>"
      ]
     },
     "metadata": {},
     "output_type": "display_data"
    }
   ],
   "source": [
    "while True:\n",
    "    ind = torch.randint(len(mnist_test), (1,))[0]\n",
    "    x, y = mnist_test[ind]\n",
    "    if ffn(x).max(dim=-1)[1] != y:\n",
    "        break\n",
    "print(\"The label is \" + str(y) + \".\")\n",
    "print(\"The network predicted \" + str(int(ffn(x).max(dim=-1)[1])) + \".\")\n",
    "plt.imshow(x.reshape(28,28).numpy(), cmap='binary')\n",
    "plt.show()"
   ]
  },
  {
   "cell_type": "markdown",
   "id": "3e4372dc",
   "metadata": {},
   "source": [
    "The network is misclassifying tricky examples, which is good to see."
   ]
  },
  {
   "cell_type": "markdown",
   "id": "4a8739fd",
   "metadata": {},
   "source": [
    "## 4) Deep Deterministic Policy Gradient (DDPG)\n",
    "\n",
    "Finally, let's implement [DDPG](https://arxiv.org/pdf/1509.02971.pdf). DDPG will consist of the following training loop:\n",
    " 1) Pick action a, and put observed transition (s, a, r', s') in replay buffer\n",
    " \n",
    " 2) Sample from replay buffer and compute Q-learning targets\n",
    " \n",
    " 3) (Critic) Minimize mean squared error to the targets\n",
    " \n",
    " 4) (Actor) Do gradient ascent in Q-value"
   ]
  },
  {
   "cell_type": "markdown",
   "id": "6127e0d8",
   "metadata": {},
   "source": [
    "Let's begin by setting up the environment from [Gymnasium](https://gymnasium.farama.org/). The environment [Pendulum-v1](https://gymnasium.farama.org/environments/classic_control/pendulum/) consists of a rod attached to a pivot point. At this pivot point is an underpowered motor. The goal is to actuate the motor to get the pendulum to go upright.\n",
    "\n",
    "The environment has two critical function ```reset()``` which resets the agent to the start of an episode and ```step(action)``` which advances the environment under a particular action.\n",
    "\n",
    "```reset()``` returns the state and a dictionary of debugging information."
   ]
  },
  {
   "cell_type": "code",
   "execution_count": 52,
   "id": "e18d7899",
   "metadata": {},
   "outputs": [
    {
     "name": "stdout",
     "output_type": "stream",
     "text": [
      "[ 0.03540277  0.99937314 -0.24857172]\n",
      "{}\n"
     ]
    }
   ],
   "source": [
    "env = gym.make('Pendulum-v1')\n",
    "\n",
    "S, info = env.reset()\n",
    "\n",
    "print(S) # [ cos(theta), sin(theta), angular velocity ]\n",
    "print(info)"
   ]
  },
  {
   "cell_type": "markdown",
   "id": "eff17d1a",
   "metadata": {},
   "source": [
    "The action space on this problem consists of a single action that can be in the range -2 to 2."
   ]
  },
  {
   "cell_type": "code",
   "execution_count": 53,
   "id": "bb3a19eb",
   "metadata": {},
   "outputs": [
    {
     "data": {
      "text/plain": [
       "Box(-2.0, 2.0, (1,), float32)"
      ]
     },
     "execution_count": 53,
     "metadata": {},
     "output_type": "execute_result"
    }
   ],
   "source": [
    "env.action_space # torque, [-2.0, 2.0]"
   ]
  },
  {
   "cell_type": "markdown",
   "id": "f4d8df1e",
   "metadata": {},
   "source": [
    "```step(action)``` returns \n",
    " - the next state, \n",
    " - the reward, \n",
    " - whether or not the episode has \"terminated\" by transitioning to a zero value sink, \n",
    " - whether or not the episode has timed out\n",
    " - a dictionary of debugging information"
   ]
  },
  {
   "cell_type": "code",
   "execution_count": 54,
   "id": "bfec94cc",
   "metadata": {},
   "outputs": [
    {
     "name": "stdout",
     "output_type": "stream",
     "text": [
      "Next state [0.01036208 0.9999463  0.5009581 ]\n",
      "Reward -2.3635894380183595\n",
      "Terminated False\n",
      "Truncated False\n",
      "Info {}\n"
     ]
    }
   ],
   "source": [
    "action = np.array([0.])\n",
    "sPrime, R, terminated, truncated, info = env.step(action)\n",
    "print(\"Next state\", sPrime)\n",
    "print(\"Reward\", R)\n",
    "print(\"Terminated\", terminated)\n",
    "print(\"Truncated\", truncated)\n",
    "print(\"Info\", info)"
   ]
  },
  {
   "cell_type": "markdown",
   "id": "9909750a",
   "metadata": {},
   "source": [
    "Let's set some useful variables about the state and action spaces."
   ]
  },
  {
   "cell_type": "code",
   "execution_count": 55,
   "id": "680e932f",
   "metadata": {},
   "outputs": [],
   "source": [
    "action_dim = env.action_space.high.shape[0]\n",
    "state_dim = env.observation_space.high.shape[0]\n",
    "\n",
    "action_low = torch.tensor(env.action_space.low)\n",
    "action_high = torch.tensor(env.action_space.high)"
   ]
  },
  {
   "cell_type": "markdown",
   "id": "11e53280",
   "metadata": {},
   "source": [
    "Let's perform a rollout by repeatedly selecting a random action and executing it until either ```terminated``` or ```truncated``` is true. By setting ```render_mode='human'``` we will be able to call ```env.render()``` to get a small window that shows us what is happening in the environment. When the rollout is done, we'll call ```env.close()``` to get rid of this window and then we will reinstantiate the environment.\n",
    "\n",
    "The arrow shows the motor torque being applied."
   ]
  },
  {
   "cell_type": "code",
   "execution_count": 56,
   "id": "b0e67acd",
   "metadata": {},
   "outputs": [
    {
     "name": "stdout",
     "output_type": "stream",
     "text": [
      "Episode 0\n",
      "Episode 1\n",
      "Episode 2\n"
     ]
    }
   ],
   "source": [
    "env = gym.make('Pendulum-v1', render_mode='human')\n",
    "\n",
    "for episode in range(3):\n",
    "    print(\"Episode\", episode)\n",
    "    S, info = env.reset()\n",
    "    done = False\n",
    "    while not done:\n",
    "        randAction = env.action_space.sample()\n",
    "        sPrime, R, terminated, truncated, info = env.step(randAction)\n",
    "        done = terminated or truncated\n",
    "        env.render()\n",
    "        S = sPrime\n",
    "env.close()"
   ]
  },
  {
   "cell_type": "markdown",
   "id": "bf7ae113",
   "metadata": {},
   "source": [
    "Here's a screenshot of what this looks like\n",
    "![Pendulum](pendulum_random.png)"
   ]
  },
  {
   "cell_type": "code",
   "execution_count": 57,
   "id": "c5e697b9",
   "metadata": {},
   "outputs": [],
   "source": [
    "env = gym.make('Pendulum-v1')"
   ]
  },
  {
   "cell_type": "markdown",
   "id": "543481de",
   "metadata": {},
   "source": [
    "Next, let's define the replay buffer, which keeps stores a transition consisting of a state, action, observed reward, observed next state, and termination signal. This will have two functions ```add``` to add a transition and ```sample``` to get ```num_samples``` transitions from the replay buffer."
   ]
  },
  {
   "cell_type": "code",
   "execution_count": 58,
   "id": "1517b88d",
   "metadata": {},
   "outputs": [],
   "source": [
    "class ReplayBuffer():\n",
    "    def __init__(self, buffer_size, state_dim, action_dim):\n",
    "        self.states = np.zeros((buffer_size, state_dim))\n",
    "        self.actions = np.zeros((buffer_size, action_dim))\n",
    "        self.rewards = np.zeros((buffer_size, 1))\n",
    "        self.statesPrime = np.zeros((buffer_size, state_dim))\n",
    "        self.terms = np.zeros((buffer_size, 1))\n",
    "    \n",
    "        self.ind = 0\n",
    "        self.buffer_size = buffer_size\n",
    "        self.buffer_len = 0\n",
    "    \n",
    "    def __len__(self):\n",
    "        return self.buffer_len\n",
    "    \n",
    "    def add(self, S, A, R, sPrime, term):\n",
    "        self.states[self.ind] = S\n",
    "        self.actions[self.ind] = A\n",
    "        self.rewards[self.ind] = R\n",
    "        self.statesPrime[self.ind] = sPrime\n",
    "        self.terms[self.ind] = term\n",
    "        \n",
    "        self.ind += 1\n",
    "        self.buffer_len = max(self.buffer_len, self.ind)\n",
    "        if self.ind == self.buffer_size:\n",
    "            self.ind = 0\n",
    "        \n",
    "    def sample(self, num_samples):\n",
    "        sampled_indices = np.random.randint(0, self.buffer_len, num_samples)\n",
    "        return dict(\n",
    "            states=torch.FloatTensor(self.states[sampled_indices]),\n",
    "            actions=torch.FloatTensor(self.actions[sampled_indices]),\n",
    "            rewards=torch.FloatTensor(self.rewards[sampled_indices]),\n",
    "            statesPrime=torch.FloatTensor(self.statesPrime[sampled_indices]),\n",
    "            terms=torch.FloatTensor(self.terms[sampled_indices])\n",
    "        )"
   ]
  },
  {
   "cell_type": "markdown",
   "id": "49015ad8",
   "metadata": {},
   "source": [
    "We will define another neural network, but this time the number of layers is a parameter. We can do this by using ```nn.Sequential``` which takes a list of modules and applies them in sequence."
   ]
  },
  {
   "cell_type": "code",
   "execution_count": 59,
   "id": "e1e22fdc",
   "metadata": {},
   "outputs": [],
   "source": [
    "class FFN(nn.Module):\n",
    "    def __init__(self, input_dim, output_dim, hidden_dim=200, hidden_layers=1, activation_fn=nn.Tanh()):\n",
    "        super().__init__()\n",
    "        \n",
    "        seq = [nn.Linear(input_dim, hidden_dim), activation_fn]\n",
    "        \n",
    "        for _ in range(hidden_layers-1):\n",
    "            seq.append(nn.Linear(hidden_dim, hidden_dim))\n",
    "            seq.append(activation_fn)\n",
    "        \n",
    "        seq.append(nn.Linear(hidden_dim, output_dim))\n",
    "        \n",
    "        self.model = nn.Sequential(*seq)\n",
    "    \n",
    "    def forward(self, x):\n",
    "        return self.model(x)"
   ]
  },
  {
   "cell_type": "markdown",
   "id": "8663ef04",
   "metadata": {},
   "source": [
    "Now we will define the actor, which takes a state and return an action in the allowed range, and the critic, which takes a state and action, and returns a value."
   ]
  },
  {
   "cell_type": "code",
   "execution_count": 60,
   "id": "777e03d9",
   "metadata": {},
   "outputs": [],
   "source": [
    "class Actor(nn.Module):\n",
    "    def __init__(self, state_dim, action_dim, action_low, action_high,\n",
    "                 hidden_dim=200, hidden_layers=1, activation_fn=nn.Tanh()):\n",
    "        super().__init__()\n",
    "        \n",
    "        self.model = FFN(state_dim, action_dim, \n",
    "                         hidden_dim=hidden_dim, hidden_layers=hidden_layers, activation_fn=activation_fn)\n",
    "        \n",
    "        self.action_low = action_low\n",
    "        self.action_high = action_high\n",
    "        \n",
    "        self.action_mean = (self.action_low + self.action_high)/2\n",
    "        self.action_scale = (self.action_high - self.action_low)/2\n",
    "    \n",
    "    def forward(self, state):\n",
    "        x = self.model(state)\n",
    "        return torch.tanh(x)*self.action_scale + self.action_mean\n",
    "    \n",
    "class Critic(nn.Module):\n",
    "    def __init__(self, state_dim, action_dim,\n",
    "                 hidden_dim=200, hidden_layers=1, activation_fn=nn.Tanh()):\n",
    "        super().__init__()\n",
    "        \n",
    "        self.model = FFN(state_dim+action_dim, 1, \n",
    "                         hidden_dim=hidden_dim, hidden_layers=hidden_layers, activation_fn=activation_fn)\n",
    "        \n",
    "    def forward(self, state, action):\n",
    "        return self.model(torch.hstack((state, action)))"
   ]
  },
  {
   "cell_type": "markdown",
   "id": "9e13bcf6",
   "metadata": {},
   "source": [
    "We define the following helper function to update the target networks. This implements the update \n",
    "$$\\theta_{\\text{out}} \\leftarrow (1-\\tau)\\theta_{\\text{out}} + \\tau\\theta_{\\text{in}}$$"
   ]
  },
  {
   "cell_type": "code",
   "execution_count": 61,
   "id": "021d6c5b",
   "metadata": {},
   "outputs": [],
   "source": [
    "def update_weights(net_in, net_out, tau=5e-3):\n",
    "    with torch.no_grad():\n",
    "            for net_in_param, net_out_param in zip(net_in.parameters(), net_out.parameters()):\n",
    "                net_out_param.data.copy_((1-tau) * net_out_param.data + tau * net_in_param.data)"
   ]
  },
  {
   "cell_type": "markdown",
   "id": "489974e7",
   "metadata": {},
   "source": [
    "Now we will define the logger, which uses [TensorBoard](https://www.tensorflow.org/tensorboard) to visualize the sum of the rewards and length of each episode. To start TensorBoard with the log directory we will use, run ```tensorboard --logdir=/tmp/tf_log``` in a console."
   ]
  },
  {
   "cell_type": "code",
   "execution_count": 62,
   "id": "b9013aa8",
   "metadata": {},
   "outputs": [],
   "source": [
    "# Logger\n",
    "class Logger():\n",
    "    def __init__(self, tensorboard_log, verbose=0):        \n",
    "        self.writer = SummaryWriter(tensorboard_log, flush_secs=1)\n",
    "\n",
    "    def log(self, train_step, episode_reward, episode_length):\n",
    "        self.writer.add_scalar('rollout/episode_reward', episode_reward, train_step)\n",
    "        self.writer.add_scalar('rollout/episode_length', episode_length, train_step)"
   ]
  },
  {
   "cell_type": "markdown",
   "id": "75c430fe",
   "metadata": {},
   "source": [
    "And finally, we implement DDPG!"
   ]
  },
  {
   "cell_type": "code",
   "execution_count": 63,
   "id": "c5120497",
   "metadata": {},
   "outputs": [
    {
     "name": "stderr",
     "output_type": "stream",
     "text": [
      "100%|████████████████████████████████████| 50000/50000 [04:27<00:00, 186.91it/s]\n"
     ]
    }
   ],
   "source": [
    "## DDPG parameters\n",
    "gamma = 0.99\n",
    "num_train_steps = int(5e4)\n",
    "buffer_size = int(2e4)\n",
    "tau = 1e-2\n",
    "batch_size = 64\n",
    "warm_up_steps = 5000\n",
    "noise_scale = 0.2\n",
    "\n",
    "## Network parameters\n",
    "actor_hidden_dim = 400\n",
    "actor_hidden_layers = 2\n",
    "actor_activation_fn = nn.ReLU()\n",
    "\n",
    "critic_hidden_dim = 400\n",
    "critic_hidden_layers = 2\n",
    "critic_activation_fn = nn.ReLU()\n",
    "\n",
    "## Optimizer parameters\n",
    "opt = torch.optim.Adam\n",
    "actor_lr = 3e-4\n",
    "critic_lr = 3e-4\n",
    "\n",
    "## Logger parameters\n",
    "logfile = \"/tmp/tf_log/pendulum\"\n",
    "\n",
    "# Create actor and critic\n",
    "actor = Actor(state_dim, action_dim, action_low, action_high, \n",
    "              hidden_dim=actor_hidden_dim, hidden_layers=actor_hidden_layers, activation_fn=actor_activation_fn)\n",
    "\n",
    "critic = Critic(state_dim, action_dim,\n",
    "                hidden_dim=critic_hidden_dim, hidden_layers=critic_hidden_layers, activation_fn=critic_activation_fn)\n",
    "\n",
    "# Create target networks\n",
    "target_actor = deepcopy(actor)\n",
    "target_critic = deepcopy(critic)\n",
    "\n",
    "# Create optimizers\n",
    "actor_optim = opt(actor.parameters(), lr=actor_lr)\n",
    "critic_optim = opt(critic.parameters(), lr=critic_lr)\n",
    "\n",
    "# Create replay buffer\n",
    "replay_buffer = ReplayBuffer(buffer_size, state_dim, action_dim)\n",
    "\n",
    "# Create logger\n",
    "logger = Logger(logfile)\n",
    "\n",
    "train_step = 0\n",
    "\n",
    "# Setup progress bar with tqdm\n",
    "with tqdm(total=num_train_steps) as pbar:\n",
    "    \n",
    "    while train_step < num_train_steps:\n",
    "        # Reset episode\n",
    "        done = False\n",
    "        S, info = env.reset()\n",
    "        episode_R = 0 # Keeps track of sum of rewards along episode\n",
    "        episode_len = 0 # Keeps track of episode length\n",
    "\n",
    "        while not done and train_step < num_train_steps:\n",
    "            # Pick action\n",
    "            raw_action = ( actor(torch.tensor(S)) + torch.randn(action_dim)*noise_scale ).detach()\n",
    "            action = raw_action.clip(action_low, action_high).numpy()\n",
    "\n",
    "            # Sample transition\n",
    "            sPrime, R, terminated, truncated, info = env.step(action)\n",
    "            done = terminated or truncated\n",
    "            train_step += 1\n",
    "            pbar.update(1)\n",
    "\n",
    "            ## Log\n",
    "            episode_R += R\n",
    "            episode_len += 1\n",
    "            if done:\n",
    "                logger.log(train_step, episode_R, episode_len)\n",
    "                episode_R = 0\n",
    "                episode_len = 0\n",
    "            ##\n",
    "\n",
    "            # Add to replay buffer\n",
    "            replay_buffer.add(S, action, R, sPrime, terminated)\n",
    "\n",
    "            # Shift S for next timestep\n",
    "            S = sPrime\n",
    "\n",
    "            # Update networks\n",
    "            if train_step <= warm_up_steps: # If we are still warming up, don't update the networks\n",
    "                continue\n",
    "\n",
    "            # Sample from replay buffer\n",
    "            samples = replay_buffer.sample(batch_size)\n",
    "\n",
    "            # Update critic\n",
    "            ## Compute Q-learning target\n",
    "            targ_action = target_actor(samples[\"statesPrime\"])\n",
    "            targ_nextQs = target_critic(samples[\"statesPrime\"], targ_action)\n",
    "            targ_Qs = (samples[\"rewards\"] + gamma*targ_nextQs*(1-samples[\"terms\"])).detach()\n",
    "\n",
    "            ## Loss is mean squared error to target\n",
    "            Qs = critic(samples[\"states\"], samples[\"actions\"])\n",
    "            critic_loss = (targ_Qs - Qs).square().mean()\n",
    "\n",
    "            critic_optim.zero_grad()\n",
    "            critic_loss.backward()\n",
    "            critic_optim.step()\n",
    "\n",
    "            # Update actor\n",
    "            ## Loss is the negative of the Q-value the critic predicts for the actor's action\n",
    "            actions = actor(samples[\"states\"])\n",
    "            actor_loss = -critic(samples[\"states\"], actions).mean()\n",
    "\n",
    "            actor_optim.zero_grad()\n",
    "            actor_loss.backward()\n",
    "            actor_optim.step()\n",
    "\n",
    "            ## Update target networks\n",
    "            update_weights(critic, target_critic, tau=tau)\n",
    "            update_weights(actor, target_actor, tau=tau)"
   ]
  },
  {
   "cell_type": "markdown",
   "id": "ab4ad7d8",
   "metadata": {},
   "source": [
    "Now it is done training. The output in TensorBoard looks like this:\n",
    "![TensorBoard output](tensorboard.png)\n",
    "\n",
    "We can see that the agent had learned a good policy after about 10k training steps (about 1 minute of real time)."
   ]
  },
  {
   "cell_type": "markdown",
   "id": "b9ca4925",
   "metadata": {},
   "source": [
    "Let's watch the trained policy. We will see that it has learned to balance the pendulum."
   ]
  },
  {
   "cell_type": "code",
   "execution_count": 64,
   "id": "1aa908c6",
   "metadata": {},
   "outputs": [
    {
     "name": "stdout",
     "output_type": "stream",
     "text": [
      "Episode 0\n",
      "Episode 1\n",
      "Episode 2\n",
      "Episode 3\n",
      "Episode 4\n"
     ]
    }
   ],
   "source": [
    "env = gym.make('Pendulum-v1', render_mode='human')\n",
    "\n",
    "for episode in range(5):\n",
    "    print(\"Episode\", episode)\n",
    "    S, info = env.reset()\n",
    "    done = False\n",
    "    while not done:\n",
    "        action = actor(torch.tensor(S)).detach().numpy()\n",
    "        sPrime, R, terminated, truncated, info = env.step(action)\n",
    "        done = terminated or truncated\n",
    "        env.render()\n",
    "        S = sPrime\n",
    "env.close()"
   ]
  },
  {
   "cell_type": "markdown",
   "id": "e3881bbc",
   "metadata": {},
   "source": [
    "Here's a screenshot of what this looks like\n",
    "![Pendulum](pendulum_trained.png)"
   ]
  },
  {
   "cell_type": "markdown",
   "id": "cbcd76ec",
   "metadata": {},
   "source": [
    "We can save the actor's weights"
   ]
  },
  {
   "cell_type": "code",
   "execution_count": 65,
   "id": "094d8e10",
   "metadata": {},
   "outputs": [],
   "source": [
    "torch.save(actor.state_dict(), \"actor.pt\")"
   ]
  },
  {
   "cell_type": "markdown",
   "id": "627d2bbe",
   "metadata": {},
   "source": [
    "and load them in."
   ]
  },
  {
   "cell_type": "code",
   "execution_count": 66,
   "id": "c0169f79",
   "metadata": {},
   "outputs": [
    {
     "data": {
      "text/plain": [
       "<All keys matched successfully>"
      ]
     },
     "execution_count": 66,
     "metadata": {},
     "output_type": "execute_result"
    }
   ],
   "source": [
    "new_actor = Actor(state_dim, action_dim, action_low, action_high, \n",
    "                  hidden_dim=actor_hidden_dim, hidden_layers=actor_hidden_layers, activation_fn=actor_activation_fn)\n",
    "new_actor.load_state_dict(torch.load(\"actor.pt\"))"
   ]
  },
  {
   "cell_type": "markdown",
   "id": "07204309",
   "metadata": {},
   "source": [
    "And now we are done! For more reading on PyTorch, take a look at their [tutorials](https://pytorch.org/tutorials/). For more reading on deep reinforcement learning, [this blog](https://pytorch.org/tutorials/) is very well written."
   ]
  }
 ],
 "metadata": {
  "kernelspec": {
   "display_name": "pytorch_venv",
   "language": "python",
   "name": "pytorch_venv"
  },
  "language_info": {
   "codemirror_mode": {
    "name": "ipython",
    "version": 3
   },
   "file_extension": ".py",
   "mimetype": "text/x-python",
   "name": "python",
   "nbconvert_exporter": "python",
   "pygments_lexer": "ipython3",
   "version": "3.10.12"
  }
 },
 "nbformat": 4,
 "nbformat_minor": 5
}
